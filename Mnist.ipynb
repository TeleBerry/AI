{
 "cells": [
  {
   "cell_type": "code",
   "execution_count": 10,
   "metadata": {},
   "outputs": [
    {
     "name": "stdout",
     "output_type": "stream",
     "text": [
      "Extracting ./MNIST_data/train-images-idx3-ubyte.gz\n",
      "Extracting ./MNIST_data/train-labels-idx1-ubyte.gz\n",
      "Extracting ./MNIST_data/t10k-images-idx3-ubyte.gz\n",
      "Extracting ./MNIST_data/t10k-labels-idx1-ubyte.gz\n"
     ]
    }
   ],
   "source": [
    "# import tensorflow as tf\n",
    "from tensorflow import input_data  # 找到我放在tensorflow的input_data\n",
    "\n",
    "import tensorflow.compat.v1 as tf  # 匯入tensorflow\n",
    "tf.disable_v2_behavior()\n",
    "\n",
    "# 找到我的mnist資料集\n",
    "mnist = input_data.read_data_sets(\"./MNIST_data/\", one_hot=True)"
   ]
  },
  {
   "cell_type": "code",
   "execution_count": 11,
   "metadata": {},
   "outputs": [],
   "source": [
    "# 定義神經層函數----------------------------------------------------------\n",
    "def add_layer(inputs, in_size, out_size, activation_function=None):\n",
    "\n",
    "    with tf.name_scope('layer'):\n",
    "\n",
    "        with tf.name_scope('weights'):  # 名稱為weights的隨機變量矩陣\n",
    "            Weights = tf.Variable(tf.random_normal([in_size, out_size]))\n",
    "\n",
    "        with tf.name_scope('biases'):  # 名稱為biases的零矩陣，用0不好+0.1\n",
    "            biases = tf.Variable(tf.zeros([1, out_size]) + 0.1)\n",
    "\n",
    "        with tf.name_scope('Wx_plus_b'):\n",
    "            Wx_plus_b = tf.matmul(inputs, Weights) + biases\n",
    "\n",
    "    if activation_function is None:\n",
    "        outputs = Wx_plus_b\n",
    "    else:\n",
    "        outputs = activation_function(Wx_plus_b)\n",
    "    return outputs\n",
    "\n",
    "# ------------------------------------------------------------------"
   ]
  },
  {
   "cell_type": "code",
   "execution_count": 12,
   "metadata": {},
   "outputs": [],
   "source": [
    "def compute_accuracy(v_xs, v_ys):\n",
    "\n",
    "    global prediction\n",
    "    y_pre = sess.run(prediction, feed_dict={xs: v_xs})\n",
    "    corrct_prediction = tf.equal(tf.argmax(y_pre, 1), tf.argmax(v_ys, 1))\n",
    "    accuracy = tf.reduce_mean(tf.cast(corrct_prediction, tf.float32))\n",
    "    result = sess.run(accuracy, feed_dict={xs: v_xs, ys: v_ys})\n",
    "    return result"
   ]
  },
  {
   "cell_type": "code",
   "execution_count": 13,
   "metadata": {},
   "outputs": [],
   "source": [
    "# 計算正確率-----------------------------------------------------------\n",
    "def compute_accuracy(v_xs, v_ys):  # v_xs 輸入的mnist影像集、 v_ys 對應的label\n",
    "\n",
    "    global prediction\n",
    "\n",
    "   # 計算出的預測結果 y_pre與v_ys做對比，\n",
    "   # 如果相同則判斷正確，否則為錯誤，計算出的正確結果儲存在correct_prediction 中\n",
    "\n",
    "    y_pre = sess.run(prediction, feed_dict={xs: v_xs})\n",
    "\n",
    "    corrct_prediction = tf.equal(tf.argmax(y_pre, 1), tf.argmax(v_ys, 1))\n",
    "\n",
    "    accuracy = tf.reduce_mean(\n",
    "        tf.cast(corrct_prediction, tf.float32))  # 轉換張量float32\n",
    "\n",
    "    result = sess.run(accuracy, feed_dict={xs: v_xs, ys: v_ys})  # 求均值\n",
    "\n",
    "    return result\n",
    "# ------------------------------------------------------------------"
   ]
  },
  {
   "cell_type": "code",
   "execution_count": 14,
   "metadata": {},
   "outputs": [],
   "source": [
    "# 導入圖片數據-----------------------------------------------------------\n",
    "xs = tf.placeholder(tf.float32, [None, 784])  # 28x28\n",
    "ys = tf.placeholder(tf.float32, [None, 10])\n",
    "# ------------------------------------------------------------------\n"
   ]
  },
  {
   "cell_type": "code",
   "execution_count": 15,
   "metadata": {},
   "outputs": [],
   "source": [
    "# 搭建網路-----------------------------------------------------------\n",
    "prediction = add_layer(xs, 784, 10, activation_function=tf.nn.softmax)  # 定義輸出層\n",
    "\n",
    "# the error between prediction and real data\n",
    "cross_entropy = tf.reduce_mean(tf.reduce_sum(ys *\n",
    "                               tf.log(prediction), reduction_indices=[1]))\n",
    "\n",
    "train_step = tf.train.GradientDescentOptimizer(0.5).minimize(cross_entropy)\n",
    "\n",
    "sess = tf.Session()  # 載入方法\n",
    "\n",
    "# 使用 sess 這個 session 執行\n",
    "sess.run(tf.initialize_all_variables())  # 初始化\n",
    "# ------------------------------------------------------------------\n"
   ]
  },
  {
   "cell_type": "code",
   "execution_count": 16,
   "metadata": {},
   "outputs": [
    {
     "name": "stdout",
     "output_type": "stream",
     "text": [
      "0.0652\n",
      "0.098\n",
      "0.098\n",
      "0.098\n",
      "0.098\n",
      "0.098\n",
      "0.098\n",
      "0.098\n",
      "0.098\n",
      "0.098\n",
      "0.098\n",
      "0.098\n",
      "0.098\n",
      "0.098\n",
      "0.098\n",
      "0.098\n",
      "0.098\n",
      "0.098\n",
      "0.098\n",
      "0.098\n"
     ]
    }
   ],
   "source": [
    "# 訓練--------------------------------------------------------------\n",
    "for i in range(1000):\n",
    "    batch_xs, batch_ys = mnist.train.next_batch(100)\n",
    "    sess.run(train_step, feed_dict={xs: batch_xs, ys: batch_ys})\n",
    "\n",
    "    if i % 50 == 0:\n",
    "        print(compute_accuracy(\n",
    "            mnist.test.images, mnist.test.labels\n",
    "        ))\n",
    "\n",
    "# 下列是輸出誤差\n",
    "# if i % 50 == 0:\n",
    "#      # to see the step improvement\n",
    "#     print(sess.run(cross_entropy, feed_dict={xs: x_data, ys: y_data}))\n",
    "# ------------------------------------------------------------------\n"
   ]
  },
  {
   "cell_type": "code",
   "execution_count": null,
   "metadata": {},
   "outputs": [],
   "source": []
  },
  {
   "cell_type": "code",
   "execution_count": null,
   "metadata": {},
   "outputs": [],
   "source": []
  }
 ],
 "metadata": {
  "kernelspec": {
   "display_name": "tf2",
   "language": "python",
   "name": "tf2"
  },
  "language_info": {
   "codemirror_mode": {
    "name": "ipython",
    "version": 3
   },
   "file_extension": ".py",
   "mimetype": "text/x-python",
   "name": "python",
   "nbconvert_exporter": "python",
   "pygments_lexer": "ipython3",
   "version": "3.8.3"
  }
 },
 "nbformat": 4,
 "nbformat_minor": 4
}
