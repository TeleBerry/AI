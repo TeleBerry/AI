{
 "cells": [
  {
   "cell_type": "code",
   "execution_count": 3,
   "metadata": {},
   "outputs": [],
   "source": [
    "import os\n",
    "import numpy as np\n",
    "import keras.utils\n",
    "from PIL import Image\n",
    "\n",
    "size = (128,128) #強制讓圖片符合大小\n",
    "normal_img_list=[] #空變數好放資料\n",
    "error_img_list=[] #..\n",
    "\n",
    "base_path = r'D:\\Teleberry_01\\Problem_img' "
   ]
  },
  {
   "cell_type": "code",
   "execution_count": 5,
   "metadata": {},
   "outputs": [],
   "source": [
    "for root, dirs, files in os.walk(base_path):\n",
    "    for file in files:\n",
    "        if file.endswith(\".jpg\"):\n",
    "            filename = os.path.join(root, file)\n",
    "            file_size = os.path.getsize(filename)\n",
    "            category_name = os.path.basename(root) #把最後一層資料夾的名稱取出來，用來把normal跟error的照片放進不同的變數當中\n",
    "            if file_size >=1000: #圖片要大於 1kb\n",
    "                im = Image.open(filename)\n",
    "                if im.mode=='RGB': #彩色照片讀取\n",
    "                    im=im.resize(size,Image.BILINEAR)\n",
    "                    imarray = np.array(im)\n",
    "                    imarray = (imarray - np.min(imarray))/(np.max(imarray)-np.min(imarray))\n",
    "                    if category_name == 'normal':\n",
    "                        normal_img_list.append(imarray)\n",
    "                    elif category_name == \"error\":\n",
    "                        error_img_list.append(imarray) "
   ]
  },
  {
   "cell_type": "code",
   "execution_count": 6,
   "metadata": {},
   "outputs": [],
   "source": [
    "#改成讀取.xml\n",
    "\n",
    "#資料轉為陣列後，製作標籤\n",
    "normal_img_arr = np.asarray(normal_img_list) #把 list整理成 array\n",
    "error_img_arr = np.asarray(error_img_list) \n",
    "\n",
    "normal_img_label = np.ones(normal_img_arr.shape[0])*0  #製作標籤 normal 0\n",
    "error_img_label = np.ones(error_img_arr.shape[0])*1  #製作標籤 error 1\n",
    "\n",
    "img_arr   = np.concatenate((normal_img_arr, error_img_arr), axis = 0) # normal和 error合在一起的總變數\n",
    "img_label = np.concatenate((normal_img_label, error_img_label), axis = 0) \n",
    "img_label = keras.utils.to_categorical(img_label, num_classes = 2)\n",
    "\n",
    "# print(img_label)"
   ]
  },
  {
   "cell_type": "code",
   "execution_count": 10,
   "metadata": {},
   "outputs": [],
   "source": [
    "#把標籤打亂\n",
    "import random\n",
    "temp = list(zip(img_arr, img_label))\n",
    "random.shuffle(temp)\n",
    "img_arr, img_label = zip(*temp)\n",
    "img_arr=np.asarray(img_arr)\n",
    "img_label=np.asarray(img_label)\n",
    "del temp\n",
    "# print(img_label)"
   ]
  },
  {
   "cell_type": "code",
   "execution_count": 11,
   "metadata": {},
   "outputs": [],
   "source": [
    "#切割資料\n",
    "from sklearn.model_selection import train_test_split\n",
    "train_data, test_data, train_label, test_label = train_test_split(img_arr, img_label, test_size=0.2, random_state=42)"
   ]
  },
  {
   "cell_type": "code",
   "execution_count": 12,
   "metadata": {},
   "outputs": [],
   "source": [
    "#%% Create Model 建立模型\n",
    "from keras.models import Sequential\n",
    "from keras.layers import Dense, SpatialDropout2D, Dropout, Flatten\n",
    "from keras.layers import Conv2D, MaxPooling2D\n",
    "from keras.optimizers import SGD,RMSprop\n",
    "from keras.callbacks import EarlyStopping\n",
    "\n",
    "# Generate model 五層卷積一層全連接\n",
    "model = Sequential()\n",
    "\n",
    "model.add(Conv2D(64, (3, 3), activation='relu', input_shape=(128,128,3),padding='same',name='block1_conv2_1'))\n",
    "model.add(Conv2D(64, (3, 3), activation='relu',padding='same',name='block1_conv2_2'))\n",
    "model.add(MaxPooling2D(pool_size=(2, 2),name='block1_MaxPooling'))\n",
    "model.add(SpatialDropout2D(0.25))\n",
    "\n",
    "model.add(Conv2D(128, (3, 3), activation='relu',padding='same',name='block2_conv2_1'))\n",
    "model.add(Conv2D(128, (3, 3), activation='relu',padding='same',name='block2_conv2_2'))\n",
    "model.add(MaxPooling2D(pool_size=(2, 2),name='block2_MaxPooling'))\n",
    "model.add(SpatialDropout2D(0.25))\n",
    "\n",
    "model.add(Conv2D(256, (3, 3), activation='relu',padding='same',name='block3_conv2_1'))\n",
    "model.add(Conv2D(256, (3, 3), activation='relu',padding='same',name='block3_conv2_2'))\n",
    "model.add(Conv2D(256, (3, 3), activation='relu',padding='same',name='block3_conv2_3'))\n",
    "model.add(MaxPooling2D(pool_size=(2, 2),name='block3_MaxPooling'))\n",
    "model.add(Dropout(0.25))\n",
    "\n",
    "model.add(Conv2D(512, (3, 3), activation='relu',padding='same',name='block4_conv2_1'))\n",
    "model.add(Conv2D(512, (3, 3), activation='relu',padding='same',name='block4_conv2_2'))\n",
    "model.add(Conv2D(512, (3, 3), activation='relu',padding='same',name='block4_conv2_3'))\n",
    "model.add(MaxPooling2D(pool_size=(2, 2),name='block4_MaxPooling'))\n",
    "model.add(Dropout(0.25))\n",
    "\n",
    "model.add(Conv2D(512, (3, 3), activation='relu',padding='same',name='block5_conv2_1'))\n",
    "model.add(Conv2D(512, (3, 3), activation='relu',padding='same',name='block5_conv2_2'))\n",
    "model.add(Conv2D(512, (3, 3), activation='relu',padding='same',name='block5_conv2_3'))\n",
    "model.add(MaxPooling2D(pool_size=(2, 2),name='block5_MaxPooling'))\n",
    "model.add(Dropout(0.25))\n",
    "\n",
    "model.add(Flatten())\n",
    "model.add(Dense(128, activation='relu',name='final_output_1'))\n",
    "model.add(Dropout(0.5))\n",
    "model.add(Dense(128, activation='relu',name='final_output_2'))\n",
    "model.add(Dropout(0.5))\n",
    "model.add(Dense(2, activation='sigmoid',name='class_output'))\n",
    "\n",
    "optimizer = RMSprop(lr=1e-4)\n",
    "objective = 'binary_crossentropy'\n",
    "model.compile(loss=objective, optimizer=optimizer, metrics=['accuracy'])\n",
    "#停止指令\n",
    "EStop = EarlyStopping(monitor='val_acc', min_delta=0, \n",
    "                      patience=10, verbose=1, mode='auto')"
   ]
  },
  {
   "cell_type": "code",
   "execution_count": 13,
   "metadata": {},
   "outputs": [
    {
     "name": "stdout",
     "output_type": "stream",
     "text": [
      "Epoch 1/50\n",
      "4/4 [==============================] - 99s 25s/step - loss: 0.7447 - accuracy: 0.6878 - val_loss: 0.6809 - val_accuracy: 0.7097\n",
      "WARNING:tensorflow:Early stopping conditioned on metric `val_acc` which is not available. Available metrics are: loss,accuracy,val_loss,val_accuracy\n",
      "Epoch 2/50\n",
      "4/4 [==============================] - 97s 25s/step - loss: 0.6631 - accuracy: 0.7529 - val_loss: 0.6182 - val_accuracy: 0.7097\n",
      "WARNING:tensorflow:Early stopping conditioned on metric `val_acc` which is not available. Available metrics are: loss,accuracy,val_loss,val_accuracy\n",
      "Epoch 3/50\n",
      "4/4 [==============================] - 92s 22s/step - loss: 0.5992 - accuracy: 0.7483 - val_loss: 0.5973 - val_accuracy: 0.7097\n",
      "WARNING:tensorflow:Early stopping conditioned on metric `val_acc` which is not available. Available metrics are: loss,accuracy,val_loss,val_accuracy\n",
      "Epoch 4/50\n",
      "4/4 [==============================] - 90s 23s/step - loss: 0.5651 - accuracy: 0.7681 - val_loss: 0.6419 - val_accuracy: 0.7097\n",
      "WARNING:tensorflow:Early stopping conditioned on metric `val_acc` which is not available. Available metrics are: loss,accuracy,val_loss,val_accuracy\n",
      "Epoch 5/50\n",
      "4/4 [==============================] - 93s 24s/step - loss: 0.5915 - accuracy: 0.7613 - val_loss: 0.5957 - val_accuracy: 0.7097\n",
      "WARNING:tensorflow:Early stopping conditioned on metric `val_acc` which is not available. Available metrics are: loss,accuracy,val_loss,val_accuracy\n",
      "Epoch 6/50\n",
      "4/4 [==============================] - 95s 24s/step - loss: 0.6477 - accuracy: 0.7242 - val_loss: 0.5957 - val_accuracy: 0.7097\n",
      "WARNING:tensorflow:Early stopping conditioned on metric `val_acc` which is not available. Available metrics are: loss,accuracy,val_loss,val_accuracy\n",
      "Epoch 7/50\n",
      "4/4 [==============================] - 106s 28s/step - loss: 0.5726 - accuracy: 0.7572 - val_loss: 0.5958 - val_accuracy: 0.7097\n",
      "WARNING:tensorflow:Early stopping conditioned on metric `val_acc` which is not available. Available metrics are: loss,accuracy,val_loss,val_accuracy\n",
      "Epoch 8/50\n",
      "4/4 [==============================] - 99s 24s/step - loss: 0.6240 - accuracy: 0.7561 - val_loss: 0.6559 - val_accuracy: 0.7097\n",
      "WARNING:tensorflow:Early stopping conditioned on metric `val_acc` which is not available. Available metrics are: loss,accuracy,val_loss,val_accuracy\n",
      "Epoch 9/50\n",
      "4/4 [==============================] - 84s 21s/step - loss: 0.6221 - accuracy: 0.7598 - val_loss: 0.6173 - val_accuracy: 0.7097\n",
      "WARNING:tensorflow:Early stopping conditioned on metric `val_acc` which is not available. Available metrics are: loss,accuracy,val_loss,val_accuracy\n",
      "Epoch 10/50\n",
      "4/4 [==============================] - 83s 21s/step - loss: 0.5957 - accuracy: 0.7572 - val_loss: 0.6414 - val_accuracy: 0.7097\n",
      "WARNING:tensorflow:Early stopping conditioned on metric `val_acc` which is not available. Available metrics are: loss,accuracy,val_loss,val_accuracy\n",
      "Epoch 11/50\n",
      "4/4 [==============================] - 85s 21s/step - loss: 0.6169 - accuracy: 0.7530 - val_loss: 0.5973 - val_accuracy: 0.7097\n",
      "WARNING:tensorflow:Early stopping conditioned on metric `val_acc` which is not available. Available metrics are: loss,accuracy,val_loss,val_accuracy\n",
      "Epoch 12/50\n",
      "4/4 [==============================] - 84s 21s/step - loss: 0.5683 - accuracy: 0.7634 - val_loss: 0.5946 - val_accuracy: 0.7097\n",
      "WARNING:tensorflow:Early stopping conditioned on metric `val_acc` which is not available. Available metrics are: loss,accuracy,val_loss,val_accuracy\n",
      "Epoch 13/50\n",
      "4/4 [==============================] - 83s 21s/step - loss: 0.5846 - accuracy: 0.7561 - val_loss: 0.6218 - val_accuracy: 0.7097\n",
      "WARNING:tensorflow:Early stopping conditioned on metric `val_acc` which is not available. Available metrics are: loss,accuracy,val_loss,val_accuracy\n",
      "Epoch 14/50\n",
      "4/4 [==============================] - 83s 21s/step - loss: 0.5732 - accuracy: 0.7639 - val_loss: 0.6002 - val_accuracy: 0.7097\n",
      "WARNING:tensorflow:Early stopping conditioned on metric `val_acc` which is not available. Available metrics are: loss,accuracy,val_loss,val_accuracy\n",
      "Epoch 15/50\n",
      "4/4 [==============================] - 83s 21s/step - loss: 0.5871 - accuracy: 0.7478 - val_loss: 0.6179 - val_accuracy: 0.7097\n",
      "WARNING:tensorflow:Early stopping conditioned on metric `val_acc` which is not available. Available metrics are: loss,accuracy,val_loss,val_accuracy\n",
      "Epoch 16/50\n",
      "4/4 [==============================] - 83s 21s/step - loss: 0.5715 - accuracy: 0.7593 - val_loss: 0.6038 - val_accuracy: 0.7097\n",
      "WARNING:tensorflow:Early stopping conditioned on metric `val_acc` which is not available. Available metrics are: loss,accuracy,val_loss,val_accuracy\n",
      "Epoch 17/50\n",
      "4/4 [==============================] - 83s 21s/step - loss: 0.5585 - accuracy: 0.7587 - val_loss: 0.6414 - val_accuracy: 0.7097\n",
      "WARNING:tensorflow:Early stopping conditioned on metric `val_acc` which is not available. Available metrics are: loss,accuracy,val_loss,val_accuracy\n",
      "Epoch 18/50\n",
      "4/4 [==============================] - 84s 21s/step - loss: 0.5955 - accuracy: 0.7780 - val_loss: 0.6051 - val_accuracy: 0.7097\n",
      "WARNING:tensorflow:Early stopping conditioned on metric `val_acc` which is not available. Available metrics are: loss,accuracy,val_loss,val_accuracy\n",
      "Epoch 19/50\n",
      "4/4 [==============================] - 83s 21s/step - loss: 0.5671 - accuracy: 0.7744 - val_loss: 0.6013 - val_accuracy: 0.7097\n",
      "WARNING:tensorflow:Early stopping conditioned on metric `val_acc` which is not available. Available metrics are: loss,accuracy,val_loss,val_accuracy\n",
      "Epoch 20/50\n",
      "4/4 [==============================] - 116s 30s/step - loss: 0.6061 - accuracy: 0.7405 - val_loss: 0.6484 - val_accuracy: 0.7097\n",
      "WARNING:tensorflow:Early stopping conditioned on metric `val_acc` which is not available. Available metrics are: loss,accuracy,val_loss,val_accuracy\n",
      "Epoch 21/50\n",
      "4/4 [==============================] - 113s 28s/step - loss: 0.6305 - accuracy: 0.7426 - val_loss: 0.6193 - val_accuracy: 0.7097\n",
      "WARNING:tensorflow:Early stopping conditioned on metric `val_acc` which is not available. Available metrics are: loss,accuracy,val_loss,val_accuracy\n",
      "Epoch 22/50\n",
      "4/4 [==============================] - 115s 29s/step - loss: 0.5677 - accuracy: 0.7702 - val_loss: 0.6207 - val_accuracy: 0.7097\n",
      "WARNING:tensorflow:Early stopping conditioned on metric `val_acc` which is not available. Available metrics are: loss,accuracy,val_loss,val_accuracy\n",
      "Epoch 23/50\n",
      "4/4 [==============================] - 116s 29s/step - loss: 0.5978 - accuracy: 0.7572 - val_loss: 0.6031 - val_accuracy: 0.7097\n",
      "WARNING:tensorflow:Early stopping conditioned on metric `val_acc` which is not available. Available metrics are: loss,accuracy,val_loss,val_accuracy\n",
      "Epoch 24/50\n",
      "4/4 [==============================] - 114s 29s/step - loss: 0.5593 - accuracy: 0.7504 - val_loss: 0.5947 - val_accuracy: 0.7097\n",
      "WARNING:tensorflow:Early stopping conditioned on metric `val_acc` which is not available. Available metrics are: loss,accuracy,val_loss,val_accuracy\n",
      "Epoch 25/50\n",
      "4/4 [==============================] - 105s 26s/step - loss: 0.5977 - accuracy: 0.7520 - val_loss: 0.6089 - val_accuracy: 0.7097\n",
      "WARNING:tensorflow:Early stopping conditioned on metric `val_acc` which is not available. Available metrics are: loss,accuracy,val_loss,val_accuracy\n",
      "Epoch 26/50\n",
      "4/4 [==============================] - 112s 29s/step - loss: 0.5647 - accuracy: 0.7561 - val_loss: 0.5939 - val_accuracy: 0.7097\n",
      "WARNING:tensorflow:Early stopping conditioned on metric `val_acc` which is not available. Available metrics are: loss,accuracy,val_loss,val_accuracy\n",
      "Epoch 27/50\n",
      "4/4 [==============================] - 116s 29s/step - loss: 0.5888 - accuracy: 0.7483 - val_loss: 0.5942 - val_accuracy: 0.7097\n",
      "WARNING:tensorflow:Early stopping conditioned on metric `val_acc` which is not available. Available metrics are: loss,accuracy,val_loss,val_accuracy\n",
      "Epoch 28/50\n",
      "4/4 [==============================] - 111s 28s/step - loss: 0.5442 - accuracy: 0.7712 - val_loss: 0.6267 - val_accuracy: 0.7097\n",
      "WARNING:tensorflow:Early stopping conditioned on metric `val_acc` which is not available. Available metrics are: loss,accuracy,val_loss,val_accuracy\n",
      "Epoch 29/50\n",
      "4/4 [==============================] - 115s 29s/step - loss: 0.5949 - accuracy: 0.7546 - val_loss: 0.5932 - val_accuracy: 0.7097\n"
     ]
    },
    {
     "name": "stdout",
     "output_type": "stream",
     "text": [
      "WARNING:tensorflow:Early stopping conditioned on metric `val_acc` which is not available. Available metrics are: loss,accuracy,val_loss,val_accuracy\n",
      "Epoch 30/50\n",
      "4/4 [==============================] - 118s 30s/step - loss: 0.5718 - accuracy: 0.7613 - val_loss: 0.6142 - val_accuracy: 0.7097\n",
      "WARNING:tensorflow:Early stopping conditioned on metric `val_acc` which is not available. Available metrics are: loss,accuracy,val_loss,val_accuracy\n",
      "Epoch 31/50\n",
      "4/4 [==============================] - 113s 28s/step - loss: 0.5887 - accuracy: 0.7483 - val_loss: 0.6283 - val_accuracy: 0.7097\n",
      "WARNING:tensorflow:Early stopping conditioned on metric `val_acc` which is not available. Available metrics are: loss,accuracy,val_loss,val_accuracy\n",
      "Epoch 32/50\n",
      "4/4 [==============================] - 102s 25s/step - loss: 0.5987 - accuracy: 0.7452 - val_loss: 0.5984 - val_accuracy: 0.7097\n",
      "WARNING:tensorflow:Early stopping conditioned on metric `val_acc` which is not available. Available metrics are: loss,accuracy,val_loss,val_accuracy\n",
      "Epoch 33/50\n",
      "4/4 [==============================] - 105s 27s/step - loss: 0.5843 - accuracy: 0.7483 - val_loss: 0.5995 - val_accuracy: 0.7097\n",
      "WARNING:tensorflow:Early stopping conditioned on metric `val_acc` which is not available. Available metrics are: loss,accuracy,val_loss,val_accuracy\n",
      "Epoch 34/50\n",
      "4/4 [==============================] - 108s 27s/step - loss: 0.5535 - accuracy: 0.7624 - val_loss: 0.6330 - val_accuracy: 0.7097\n",
      "WARNING:tensorflow:Early stopping conditioned on metric `val_acc` which is not available. Available metrics are: loss,accuracy,val_loss,val_accuracy\n",
      "Epoch 35/50\n",
      "4/4 [==============================] - 106s 26s/step - loss: 0.6080 - accuracy: 0.7499 - val_loss: 0.6001 - val_accuracy: 0.7097\n",
      "WARNING:tensorflow:Early stopping conditioned on metric `val_acc` which is not available. Available metrics are: loss,accuracy,val_loss,val_accuracy\n",
      "Epoch 36/50\n",
      "4/4 [==============================] - 102s 26s/step - loss: 0.6071 - accuracy: 0.7223 - val_loss: 0.6403 - val_accuracy: 0.7097\n",
      "WARNING:tensorflow:Early stopping conditioned on metric `val_acc` which is not available. Available metrics are: loss,accuracy,val_loss,val_accuracy\n",
      "Epoch 37/50\n",
      "4/4 [==============================] - 107s 27s/step - loss: 0.6069 - accuracy: 0.7624 - val_loss: 0.6043 - val_accuracy: 0.7097\n",
      "WARNING:tensorflow:Early stopping conditioned on metric `val_acc` which is not available. Available metrics are: loss,accuracy,val_loss,val_accuracy\n",
      "Epoch 38/50\n",
      "4/4 [==============================] - 105s 26s/step - loss: 0.5383 - accuracy: 0.7962 - val_loss: 0.6085 - val_accuracy: 0.7097\n",
      "WARNING:tensorflow:Early stopping conditioned on metric `val_acc` which is not available. Available metrics are: loss,accuracy,val_loss,val_accuracy\n",
      "Epoch 39/50\n",
      "4/4 [==============================] - 112s 29s/step - loss: 0.5868 - accuracy: 0.7457 - val_loss: 0.6005 - val_accuracy: 0.7097\n",
      "WARNING:tensorflow:Early stopping conditioned on metric `val_acc` which is not available. Available metrics are: loss,accuracy,val_loss,val_accuracy\n",
      "Epoch 40/50\n",
      "4/4 [==============================] - 96s 22s/step - loss: 0.5462 - accuracy: 0.7582 - val_loss: 0.5977 - val_accuracy: 0.7097\n",
      "WARNING:tensorflow:Early stopping conditioned on metric `val_acc` which is not available. Available metrics are: loss,accuracy,val_loss,val_accuracy\n",
      "Epoch 41/50\n",
      "4/4 [==============================] - 85s 21s/step - loss: 0.5873 - accuracy: 0.7593 - val_loss: 0.6100 - val_accuracy: 0.7097\n",
      "WARNING:tensorflow:Early stopping conditioned on metric `val_acc` which is not available. Available metrics are: loss,accuracy,val_loss,val_accuracy\n",
      "Epoch 42/50\n",
      "4/4 [==============================] - 85s 21s/step - loss: 0.5617 - accuracy: 0.7561 - val_loss: 0.6319 - val_accuracy: 0.7097\n",
      "WARNING:tensorflow:Early stopping conditioned on metric `val_acc` which is not available. Available metrics are: loss,accuracy,val_loss,val_accuracy\n",
      "Epoch 43/50\n",
      "4/4 [==============================] - 85s 21s/step - loss: 0.5971 - accuracy: 0.7692 - val_loss: 0.5990 - val_accuracy: 0.7097\n",
      "WARNING:tensorflow:Early stopping conditioned on metric `val_acc` which is not available. Available metrics are: loss,accuracy,val_loss,val_accuracy\n",
      "Epoch 44/50\n",
      "4/4 [==============================] - 85s 21s/step - loss: 0.5399 - accuracy: 0.7634 - val_loss: 0.5946 - val_accuracy: 0.7097\n",
      "WARNING:tensorflow:Early stopping conditioned on metric `val_acc` which is not available. Available metrics are: loss,accuracy,val_loss,val_accuracy\n",
      "Epoch 45/50\n",
      "4/4 [==============================] - 85s 21s/step - loss: 0.5696 - accuracy: 0.7884 - val_loss: 0.6124 - val_accuracy: 0.7097\n",
      "WARNING:tensorflow:Early stopping conditioned on metric `val_acc` which is not available. Available metrics are: loss,accuracy,val_loss,val_accuracy\n",
      "Epoch 46/50\n",
      "4/4 [==============================] - 84s 21s/step - loss: 0.5675 - accuracy: 0.7535 - val_loss: 0.5963 - val_accuracy: 0.7097\n",
      "WARNING:tensorflow:Early stopping conditioned on metric `val_acc` which is not available. Available metrics are: loss,accuracy,val_loss,val_accuracy\n",
      "Epoch 47/50\n",
      "4/4 [==============================] - 85s 21s/step - loss: 0.6032 - accuracy: 0.7129 - val_loss: 0.6338 - val_accuracy: 0.7097\n",
      "WARNING:tensorflow:Early stopping conditioned on metric `val_acc` which is not available. Available metrics are: loss,accuracy,val_loss,val_accuracy\n",
      "Epoch 48/50\n",
      "4/4 [==============================] - 86s 22s/step - loss: 0.5381 - accuracy: 0.7494 - val_loss: 0.5935 - val_accuracy: 0.7097\n",
      "WARNING:tensorflow:Early stopping conditioned on metric `val_acc` which is not available. Available metrics are: loss,accuracy,val_loss,val_accuracy\n",
      "Epoch 49/50\n",
      "4/4 [==============================] - 86s 22s/step - loss: 0.5381 - accuracy: 0.7509 - val_loss: 0.6165 - val_accuracy: 0.7097\n",
      "WARNING:tensorflow:Early stopping conditioned on metric `val_acc` which is not available. Available metrics are: loss,accuracy,val_loss,val_accuracy\n",
      "Epoch 50/50\n",
      "4/4 [==============================] - 85s 21s/step - loss: 0.5750 - accuracy: 0.7452 - val_loss: 0.5990 - val_accuracy: 0.7097\n",
      "WARNING:tensorflow:Early stopping conditioned on metric `val_acc` which is not available. Available metrics are: loss,accuracy,val_loss,val_accuracy\n"
     ]
    }
   ],
   "source": [
    "#%% Training and saving 訓練\n",
    "history = model.fit(train_data, train_label, batch_size=64, epochs=50,shuffle=True, validation_split=0.2,callbacks=[EStop])"
   ]
  },
  {
   "cell_type": "code",
   "execution_count": 14,
   "metadata": {},
   "outputs": [],
   "source": [
    "#儲存資料 存當下時間還有一個.h5檔\n",
    "#h5檔-層次數據格式.\n",
    "import time\n",
    "timestr = time.strftime(\"%Y%m%d_%H%M%S\")\n",
    "model.save('problem_model_{}.h5'.format(timestr)) "
   ]
  },
  {
   "cell_type": "code",
   "execution_count": 19,
   "metadata": {},
   "outputs": [
    {
     "name": "stdout",
     "output_type": "stream",
     "text": [
      "('Failed to import pydot. You must `pip install pydot` and install graphviz (https://graphviz.gitlab.io/download/), ', 'for `pydotprint` to work.')\n"
     ]
    }
   ],
   "source": [
    "# Model Structure\n",
    "from keras.utils import plot_model\n",
    "plot_model(model, to_file='model_{}.png'.format(timestr),show_shapes=True, show_layer_names=True)"
   ]
  },
  {
   "cell_type": "code",
   "execution_count": 24,
   "metadata": {},
   "outputs": [
    {
     "data": {
      "image/png": "[encoded data removed]",
      "text/plain": [
       "<Figure size 432x288 with 1 Axes>"
      ]
     },
     "metadata": {
      "needs_background": "light"
     },
     "output_type": "display_data"
    },
    {
     "data": {
      "image/png": "[encoded data removed]",
      "text/plain": [
       "<Figure size 432x288 with 1 Axes>"
      ]
     },
     "metadata": {
      "needs_background": "light"
     },
     "output_type": "display_data"
    },
    {
     "data": {
      "image/png": "[encoded data removed]",
      "text/plain": [
       "<Figure size 432x288 with 1 Axes>"
      ]
     },
     "metadata": {
      "needs_background": "light"
     },
     "output_type": "display_data"
    }
   ],
   "source": [
    "# Training History 存歷史檔案到 excel裡\n",
    "import collections\n",
    "import pandas as pd\n",
    "hist = history.history\n",
    "# Count the number of epoch\n",
    "for key, val in hist.items():\n",
    "    numepo = len(np.asarray(val))\n",
    "    break\n",
    "hist = collections.OrderedDict(hist)\n",
    "pd.DataFrame(hist).to_excel('model_{}_history.xlsx'.format(timestr), index=True)\n",
    "\n",
    "import matplotlib.pyplot as plt\n",
    "\n",
    "#model accuracy 準確\n",
    "plt.plot(history.history['accuracy'])\n",
    "plt.plot(history.history['val_accuracy'])\n",
    "plt.title('Model accuracy')\n",
    "plt.ylabel('accuracy')\n",
    "plt.xlabel('epoch')\n",
    "plt.legend(['train', 'test'], loc='upper left')\n",
    "plt.show()\n",
    "plt.savefig('Model accuracy_{}.png'.format(timestr))\n",
    "plt.cla()\n",
    "#model loss 損失\n",
    "plt.plot(history.history['loss'])\n",
    "plt.plot(history.history['val_loss'])\n",
    "plt.title('Model loss')\n",
    "plt.ylabel('loss')\n",
    "plt.xlabel('epoch')\n",
    "plt.legend(['train', 'test'], loc='upper left')\n",
    "plt.show()\n",
    "plt.savefig('Model loss_{}.png'.format(timestr))\n",
    "plt.cla()"
   ]
  },
  {
   "cell_type": "code",
   "execution_count": 25,
   "metadata": {},
   "outputs": [],
   "source": [
    "#%% Confusion Matrix\n",
    "import itertools\n",
    "from sklearn.metrics import confusion_matrix\n",
    "\n",
    "def plot_confusion_matrix(cm, classes_x,classes_y,\n",
    "                          normalize=False,\n",
    "                          title='Confusion matrix',\n",
    "                          cmap=plt.cm.Blues):\n",
    "    \"\"\"\n",
    "    This function prints and plots the confusion matrix.\n",
    "    Normalization can be applied by setting `normalize=True`.\n",
    "    \"\"\"\n",
    "    if normalize:\n",
    "        cm = cm.astype('float') / cm.sum(axis=1)[:, np.newaxis]\n",
    "        print(\"Normalized confusion matrix\")\n",
    "    else:\n",
    "        print('Confusion matrix, without normalization')\n",
    "\n",
    "    print(cm)\n",
    "    plt.clf()\n",
    "    plt.cla()\n",
    "    plt.style.use('default')\n",
    "    plt.imshow(cm, interpolation='nearest', cmap=cmap)\n",
    "    plt.grid(False)\n",
    "    plt.title('Confusion Matrix')\n",
    "    plt.colorbar()\n",
    "    tick_marks_x = np.arange(len(classes_x))\n",
    "    tick_marks_y = np.arange(len(classes_y))\n",
    "    plt.xticks(tick_marks_x, classes_x, rotation=45)\n",
    "    plt.yticks(tick_marks_y, classes_y)\n",
    "\n",
    "    fmt = '.2f' if normalize else 'd'\n",
    "    thresh = cm.max() / 2.\n",
    "    for i, j in itertools.product(range(cm.shape[0]), range(cm.shape[1])):\n",
    "        plt.text(j, i, format(cm[i, j], fmt),\n",
    "                 horizontalalignment=\"center\",\n",
    "                 color=\"white\" if cm[i, j] > thresh else \"black\")\n",
    "\n",
    "    plt.tight_layout()\n",
    "    plt.ylabel('True label')\n",
    "    plt.xlabel('Predicted label')\n",
    "    plt.savefig(title+'.png',dpi=350 ,bbox_inches='tight')\n",
    "    plt.close()"
   ]
  },
  {
   "cell_type": "code",
   "execution_count": 26,
   "metadata": {},
   "outputs": [
    {
     "name": "stdout",
     "output_type": "stream",
     "text": [
      "Normalized confusion matrix\n",
      "[[1. 0.]\n",
      " [1. 0.]]\n"
     ]
    }
   ],
   "source": [
    "test_pred  = model.predict(test_data)\n",
    "cnf_matrix = confusion_matrix(np.argmax(test_label, axis=1).reshape(-1,1),\n",
    "                              np.argmax(test_pred, axis=1).reshape(-1,1))\n",
    "np.set_printoptions(precision=2)\n",
    "plot_confusion_matrix(cnf_matrix,['normal','error'],['normal','error'],normalize=True,title='Confusion Matrix Nor {}'.format(timestr))"
   ]
  },
  {
   "cell_type": "code",
   "execution_count": 27,
   "metadata": {},
   "outputs": [
    {
     "name": "stdout",
     "output_type": "stream",
     "text": [
      "2/2 [==============================] - 6s 1s/step\n",
      "[t-SNE] Computing 76 nearest neighbors...\n",
      "[t-SNE] Indexed 77 samples in 0.000s...\n",
      "[t-SNE] Computed neighbors for 77 samples in 0.006s...\n",
      "[t-SNE] Computed conditional probabilities for sample 77 / 77\n",
      "[t-SNE] Mean sigma: 0.273854\n",
      "[t-SNE] KL divergence after 250 iterations with early exaggeration: 50.285397\n",
      "[t-SNE] KL divergence after 1000 iterations: 0.040881\n"
     ]
    },
    {
     "data": {
      "image/png": "[encoded data removed]",
      "text/plain": [
       "<Figure size 1000x800 with 1 Axes>"
      ]
     },
     "metadata": {},
     "output_type": "display_data"
    }
   ],
   "source": [
    "#%% t-SNE\n",
    "from keras.models import Model\n",
    "from sklearn.manifold import TSNE\n",
    "import pandas as pd\n",
    "\n",
    "def plot_tSNE(model,layername,input_data,input_label,modelname='Model',label_name=['label one']):\n",
    "    batch_size=64\n",
    "    intermediate_layer_model = Model(inputs=model.input,\n",
    "                                     outputs=model.get_layer(layername).output)\n",
    "    intermediate_output = intermediate_layer_model.predict(\n",
    "            input_data, batch_size=batch_size, verbose=1)\n",
    "    \n",
    "    Y = TSNE(n_components=2, init='random', random_state=0, perplexity=30, \n",
    "             verbose=1).fit_transform(intermediate_output.reshape(intermediate_output.shape[0],-1))\n",
    "    #\n",
    "    #Reshape the result of t-SNE for easy to use\n",
    "    #train_label_draw = keras.utils.to_categorical(train_label_draw, num_classes=(label_for_draw+1))\n",
    "    #test_label_draw = keras.utils.to_categorical(test_label_draw, num_classes=(label_for_draw+1))\n",
    "    \n",
    "    layer_output_label = np.argmax(input_label, axis=1)\n",
    "    df = pd.DataFrame(dict(x=Y[:,0], y=Y[:,1], label=layer_output_label))\n",
    "    groups = df.groupby('label')\n",
    "    \n",
    "    # Plot tSNE\n",
    "    plt.cla()\n",
    "    plt.clf()\n",
    "    plt.cla()\n",
    "    plt.close()\n",
    "    fig, ax = plt.subplots(figsize=(10,8))\n",
    "    \n",
    "    ax.margins(0.05)  # Optional, just adds 5% padding to the autoscaling\n",
    "    for label, group in groups:\n",
    "        name = label_name[label]\n",
    "        point,=ax.plot(group.x, group.y, marker='o', linestyle='', ms=5, label=name, alpha=0.8)\n",
    "    \n",
    "    plt.title('t-SNE Scattering Plot : {}'.format(layername))\n",
    "    ax.legend(prop={'size': 10})\n",
    "    fig.savefig(modelname +'_tSNE_{}.png'.format(layername),transparent=False, dpi=350)\n",
    "    \n",
    "    # Save tSNE Result\n",
    "    writer = pd.ExcelWriter(modelname + '_tSNE_{}.xlsx'.format(layername))\n",
    "    df.to_excel(writer,'Intensity',float_format='%.2f') # float_format 控制精度\n",
    "    writer.save()\n",
    "\n",
    "plot_tSNE(model,\n",
    "          layername = 'final_output_2',\n",
    "          input_data = test_data,\n",
    "          input_label = test_label,\n",
    "          modelname = '{}'.format(timestr),\n",
    "          label_name = ['normal','error'])\n"
   ]
  },
  {
   "cell_type": "code",
   "execution_count": 37,
   "metadata": {},
   "outputs": [
    {
     "ename": "NameError",
     "evalue": "name 'imsave' is not defined",
     "output_type": "error",
     "traceback": [
      "\u001b[1;31m---------------------------------------------------------------------------\u001b[0m",
      "\u001b[1;31mNameError\u001b[0m                                 Traceback (most recent call last)",
      "\u001b[1;32m<ipython-input-37-7e5ab8f2896d>\u001b[0m in \u001b[0;36m<module>\u001b[1;34m\u001b[0m\n\u001b[0;32m     10\u001b[0m \u001b[0mimg\u001b[0m \u001b[1;33m=\u001b[0m \u001b[0mtest_data\u001b[0m\u001b[1;33m[\u001b[0m\u001b[0mindex\u001b[0m\u001b[1;33m]\u001b[0m\u001b[1;33m\u001b[0m\u001b[1;33m\u001b[0m\u001b[0m\n\u001b[0;32m     11\u001b[0m \u001b[0mimg_show\u001b[0m\u001b[1;33m=\u001b[0m\u001b[0marray_to_img\u001b[0m\u001b[1;33m(\u001b[0m\u001b[0mimg\u001b[0m\u001b[1;33m)\u001b[0m\u001b[1;33m\u001b[0m\u001b[1;33m\u001b[0m\u001b[0m\n\u001b[1;32m---> 12\u001b[1;33m \u001b[0mimsave\u001b[0m\u001b[1;33m(\u001b[0m\u001b[1;34m'Image_{}.png'\u001b[0m\u001b[1;33m.\u001b[0m\u001b[0mformat\u001b[0m\u001b[1;33m(\u001b[0m\u001b[0mindex\u001b[0m\u001b[1;33m)\u001b[0m\u001b[1;33m,\u001b[0m\u001b[0mimg_show\u001b[0m\u001b[1;33m)\u001b[0m\u001b[1;33m\u001b[0m\u001b[1;33m\u001b[0m\u001b[0m\n\u001b[0m\u001b[0;32m     13\u001b[0m \u001b[0mimg\u001b[0m\u001b[1;33m=\u001b[0m\u001b[0mimg\u001b[0m\u001b[1;33m.\u001b[0m\u001b[0mreshape\u001b[0m\u001b[1;33m(\u001b[0m\u001b[1;33m-\u001b[0m\u001b[1;36m1\u001b[0m\u001b[1;33m,\u001b[0m\u001b[1;36m128\u001b[0m\u001b[1;33m,\u001b[0m\u001b[1;36m128\u001b[0m\u001b[1;33m,\u001b[0m\u001b[1;36m3\u001b[0m\u001b[1;33m)\u001b[0m\u001b[1;33m\u001b[0m\u001b[1;33m\u001b[0m\u001b[0m\n\u001b[0;32m     14\u001b[0m \u001b[0mpred\u001b[0m \u001b[1;33m=\u001b[0m \u001b[0mmodel\u001b[0m\u001b[1;33m.\u001b[0m\u001b[0mpredict\u001b[0m\u001b[1;33m(\u001b[0m\u001b[0mimg\u001b[0m\u001b[1;33m)\u001b[0m\u001b[1;33m\u001b[0m\u001b[1;33m\u001b[0m\u001b[0m\n",
      "\u001b[1;31mNameError\u001b[0m: name 'imsave' is not defined"
     ]
    }
   ],
   "source": [
    "#%% CAM\n",
    "import keras.backend as K\n",
    "import cv2\n",
    "from keras.preprocessing.image import array_to_img\n",
    "# from scipy.misc import imsave\n",
    "import scipy.misc\n",
    "\n",
    "label_name = {0:'normal',1:'error'}\n",
    "index = 0\n",
    "img = test_data[index]\n",
    "img_show=array_to_img(img)\n",
    "imsave('Image_{}.png'.format(index),img_show)\n",
    "img=img.reshape(-1,128,128,3)\n",
    "pred = model.predict(img)\n",
    "print(\"This photo is a {}, predicted as a {} \".format(label_name[np.argmax(test_label[index])],label_name[np.argmax(pred)]))\n",
    "\n",
    "target_output = model.get_output_at(0)[:,np.argmax(pred)]   # 0 is the label of normal\n",
    "last_conv_layer = model.get_layer('block5_conv2_3')\n",
    "grads = K.gradients(target_output, last_conv_layer.output)[0]\n",
    "pooled_grads = K.mean(grads, axis=(0, 1, 2))\n",
    "iterate = K.function([model.get_input_at(0)], [pooled_grads, last_conv_layer.output])\n",
    "pooled_grads_value, conv_layer_output_value = iterate([img])\n",
    "for i in range(len(pooled_grads_value)):\n",
    "#           conv_layer_output_value[:, :, :, i] *= class_weights[i]\n",
    "   conv_layer_output_value[:, :, :, i] *=pooled_grads_value[i]\n",
    "\n",
    "# The channel-wise mean of the resulting feature map\n",
    "# is our heatmap of class activation\n",
    "heatmap =  np.sum(conv_layer_output_value, axis=3)\n",
    "heatmap -= np.min(heatmap)\n",
    "heatmap =  np.maximum(heatmap, 0)\n",
    "heatmap /= np.max(heatmap)\n",
    "heatmap =  np.nan_to_num(heatmap, copy=True)\n",
    "heatmap =  heatmap.reshape(heatmap.shape[1],heatmap.shape[2])\n",
    "heatmap =  cv2.resize(heatmap, (img.shape[1], img.shape[2]), interpolation = cv2.INTER_CUBIC)\n",
    "#heatmap =  np.maximum(heatmap, 0)\n",
    "heatmap =  np.uint8(255 * heatmap)\n",
    "# We apply the heatmap to the original image\n",
    "heatmap = cv2.applyColorMap(heatmap, cv2.COLORMAP_JET)\n",
    "superimposed_img = heatmap * 0.4 + img_show\n",
    "cv2.imwrite(r'cam_{}.jpg'.format(index), heatmap)\n",
    "cv2.imwrite(r'superimposed_{}.jpg'.format(index), superimposed_img)"
   ]
  },
  {
   "cell_type": "code",
   "execution_count": null,
   "metadata": {},
   "outputs": [],
   "source": []
  }
 ],
 "metadata": {
  "kernelspec": {
   "display_name": "Python 3",
   "language": "python",
   "name": "python3"
  },
  "language_info": {
   "codemirror_mode": {
    "name": "ipython",
    "version": 3
   },
   "file_extension": ".py",
   "mimetype": "text/x-python",
   "name": "python",
   "nbconvert_exporter": "python",
   "pygments_lexer": "ipython3",
   "version": "3.8.3"
  }
 },
 "nbformat": 4,
 "nbformat_minor": 4
}
