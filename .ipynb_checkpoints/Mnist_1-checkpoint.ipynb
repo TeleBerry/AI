{
 "cells": [
  {
   "cell_type": "code",
   "execution_count": null,
   "metadata": {},
   "outputs": [],
   "source": [
    "import tensorflow\n",
    "import tensorflow as tf\n",
    "import matplotlib.pyplot as plt"
   ]
  },
  {
   "cell_type": "code",
   "execution_count": null,
   "metadata": {},
   "outputs": [],
   "source": [
    "from tensorflow import input_data\n",
    "mnist = input_data.read_data_sets(\"./MNIST_data/\", one_hot=True)"
   ]
  },
  {
   "cell_type": "code",
   "execution_count": null,
   "metadata": {},
   "outputs": [],
   "source": [
    "train_nums = mnist.train.num_examples\n",
    "validation_nums = mnist.validation.num_examples\n",
    "test_nums = mnist.test.num_examples\n",
    "print('MNIST數據集個數')\n",
    "print(' >>>train_nums=%d' % train_nums, '\\n',\n",
    "      '>>>validation_nums=%d' % validation_nums, '\\n',\n",
    "      '>>>test_nums=%d' % test_nums, '\\n')"
   ]
  },
  {
   "cell_type": "code",
   "execution_count": null,
   "metadata": {},
   "outputs": [],
   "source": [
    "# 獲得數據值\n",
    "train_data = mnist.train.images  # 所有訓練數據\n",
    "val_data = mnist.validation.images  # (5000,784)\n",
    "test_data = mnist.test.images  # (10000,784)\n",
    "print('>>>訓練集數據大小：', train_data.shape, '\\n',\n",
    "      '>>>一副圖像的大小：', train_data[0].shape)\n"
   ]
  },
  {
   "cell_type": "code",
   "execution_count": null,
   "metadata": {},
   "outputs": [],
   "source": [
    "# 獲取lable=[0,0,...,0,1],是一個1*10的向量\n",
    "train_labels = mnist.train.labels  # (55000,10)\n",
    "val_labels = mnist.validation.labels  # (5000,10)\n",
    "test_labels = mnist.test.labels  # (10000,10)"
   ]
  },
  {
   "cell_type": "code",
   "execution_count": null,
   "metadata": {},
   "outputs": [],
   "source": [
    "print('>>>訓練集lable數組大小：', train_labels.shape, '\\n',\n",
    "      '>>>一副圖像的lable大小：', train_labels[1].shape, '\\n',\n",
    "      '>>>一副圖像的lable值：', train_labels[0])"
   ]
  },
  {
   "cell_type": "code",
   "execution_count": null,
   "metadata": {},
   "outputs": [],
   "source": [
    "# 批量獲取數據 & lable【使用next_batch(batch_size)】\n",
    "batch_size = 100  # 每次批量訓練100幅圖像\n",
    "batch_xs, batch_ys = mnist.train.next_batch(batch_size)\n",
    "print('使用mnist.train.next_batch(batch_size)批量讀取樣本\\n')\n",
    "print('>>>批量讀取100个樣本:數據集大小=', batch_xs.shape, '\\n',\n",
    "      '>>>批量讀取100个樣本:lable集大小=', batch_ys.shape)\n",
    "# xs是圖像數據(100,784);ys是lable(100,10)"
   ]
  },
  {
   "cell_type": "code",
   "execution_count": null,
   "metadata": {},
   "outputs": [],
   "source": [
    "# 輸出圖像\n",
    "plt.figure()\n",
    "for i in range(100):\n",
    "    im = train_data[i].reshape(28, 28)\n",
    "    im = batch_xs[i].reshape(28, 28)\n",
    "    plt.imshow(im, 'gray')\n",
    "    plt.pause(0.0000001)\n",
    "plt.show()\n"
   ]
  },
  {
   "cell_type": "code",
   "execution_count": null,
   "metadata": {},
   "outputs": [],
   "source": []
  }
 ],
 "metadata": {
  "kernelspec": {
   "display_name": "Python 3",
   "language": "python",
   "name": "python3"
  },
  "language_info": {
   "codemirror_mode": {
    "name": "ipython",
    "version": 3
   },
   "file_extension": ".py",
   "mimetype": "text/x-python",
   "name": "python",
   "nbconvert_exporter": "python",
   "pygments_lexer": "ipython3",
   "version": "3.8.3"
  }
 },
 "nbformat": 4,
 "nbformat_minor": 4
}
