{
 "cells": [
  {
   "cell_type": "code",
   "execution_count": 18,
   "id": "indie-oregon",
   "metadata": {},
   "outputs": [],
   "source": [
    "cwd = './test/'  # 測試資料"
   ]
  },
  {
   "cell_type": "code",
   "execution_count": 19,
   "id": "artistic-polish",
   "metadata": {},
   "outputs": [],
   "source": [
    "classes = {'dog', 'cat'}  # 設定 2類"
   ]
  },
  {
   "cell_type": "code",
   "execution_count": 20,
   "id": "elegant-combat",
   "metadata": {},
   "outputs": [],
   "source": [
    "name= 'dog' \n",
    "#for index, name in enumerate(classes):"
   ]
  },
  {
   "cell_type": "code",
   "execution_count": 21,
   "id": "decimal-winning",
   "metadata": {},
   "outputs": [],
   "source": [
    "class_path = cwd+name+'/' "
   ]
  },
  {
   "cell_type": "code",
   "execution_count": 22,
   "id": "southeast-fraction",
   "metadata": {},
   "outputs": [],
   "source": [
    "img_name ='??' \n",
    "# img_name in os.makedirs(class_path): "
   ]
  },
  {
   "cell_type": "code",
   "execution_count": 23,
   "id": "working-words",
   "metadata": {},
   "outputs": [],
   "source": [
    "img_path = class_path + img_name "
   ]
  },
  {
   "cell_type": "code",
   "execution_count": 24,
   "id": "turned-trust",
   "metadata": {},
   "outputs": [
    {
     "name": "stdout",
     "output_type": "stream",
     "text": [
      "./test/dog/\n"
     ]
    }
   ],
   "source": [
    "print (class_path)"
   ]
  },
  {
   "cell_type": "code",
   "execution_count": 25,
   "id": "recreational-inspector",
   "metadata": {},
   "outputs": [
    {
     "name": "stdout",
     "output_type": "stream",
     "text": [
      "./test/dog/??\n"
     ]
    }
   ],
   "source": [
    "print (img_path)"
   ]
  },
  {
   "cell_type": "code",
   "execution_count": null,
   "id": "fifty-unemployment",
   "metadata": {},
   "outputs": [],
   "source": []
  }
 ],
 "metadata": {
  "kernelspec": {
   "display_name": "tf2",
   "language": "python",
   "name": "tf2"
  },
  "language_info": {
   "codemirror_mode": {
    "name": "ipython",
    "version": 3
   },
   "file_extension": ".py",
   "mimetype": "text/x-python",
   "name": "python",
   "nbconvert_exporter": "python",
   "pygments_lexer": "ipython3",
   "version": "3.8.6"
  }
 },
 "nbformat": 4,
 "nbformat_minor": 5
}
