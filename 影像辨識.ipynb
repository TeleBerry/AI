{
 "cells": [
  {
   "cell_type": "code",
   "execution_count": 1,
   "metadata": {},
   "outputs": [],
   "source": [
    "import cv2\n",
    "import numpy as np"
   ]
  },
  {
   "cell_type": "code",
   "execution_count": 2,
   "metadata": {},
   "outputs": [],
   "source": [
    "# 匯入\n",
    "img = cv2.imread('.\\pic\\light.jpg', -1) "
   ]
  },
  {
   "cell_type": "code",
   "execution_count": 3,
   "metadata": {},
   "outputs": [],
   "source": [
    "# 先將照片轉灰階\n",
    "gray = cv2.cvtColor(img, cv2.COLOR_BGR2GRAY)\n",
    "gray = cv2.GaussianBlur(gray, (5, 5), 0)"
   ]
  },
  {
   "cell_type": "code",
   "execution_count": 4,
   "metadata": {},
   "outputs": [],
   "source": [
    "# 環形檢測\n",
    "circles = cv2.HoughCircles(\n",
    "    gray,\n",
    "    cv2.HOUGH_GRADIENT,\n",
    "    1,\n",
    "    20,\n",
    "    None,\n",
    "    10,  # 高閥值\n",
    "    6,  # 超過此閥值才會當一個圓\n",
    "    6,  # min 半徑\n",
    "    7  # max 半徑\n",
    ")"
   ]
  },
  {
   "cell_type": "code",
   "execution_count": 5,
   "metadata": {},
   "outputs": [
    {
     "name": "stderr",
     "output_type": "stream",
     "text": [
      "<ipython-input-5-511b23f4f18f>:5: DeprecationWarning: an integer is required (got type numpy.float32).  Implicit conversion to integers using __int__ is deprecated, and may be removed in a future version of Python.\n",
      "  cv2.circle(out, (x, y), int(r), (255, 0, 0), 2, cv2.LINE_AA)\n"
     ]
    }
   ],
   "source": [
    "# 變回彩色\n",
    "if len(circles) > 0:\n",
    "    out = img.copy()\n",
    "    for x, y, r in circles[0]:\n",
    "        cv2.circle(out, (x, y), int(r), (255, 0, 0), 2, cv2.LINE_AA)\n",
    "        img = cv2.hconcat([img, out])"
   ]
  },
  {
   "cell_type": "code",
   "execution_count": 6,
   "metadata": {},
   "outputs": [],
   "source": [
    "# 輸出\n",
    "out = cv2.resize(out, (1000, 400), interpolation=cv2.INTER_AREA)\n",
    "cv2.imshow('frame', out)"
   ]
  },
  {
   "cell_type": "code",
   "execution_count": 7,
   "metadata": {},
   "outputs": [],
   "source": [
    "cv2.waitKey(0)\n",
    "cv2.destroyAllWindows()"
   ]
  },
  {
   "cell_type": "code",
   "execution_count": null,
   "metadata": {},
   "outputs": [],
   "source": []
  },
  {
   "cell_type": "code",
   "execution_count": null,
   "metadata": {},
   "outputs": [],
   "source": []
  }
 ],
 "metadata": {
  "kernelspec": {
   "display_name": "tf2",
   "language": "python",
   "name": "tf2"
  },
  "language_info": {
   "codemirror_mode": {
    "name": "ipython",
    "version": 3
   },
   "file_extension": ".py",
   "mimetype": "text/x-python",
   "name": "python",
   "nbconvert_exporter": "python",
   "pygments_lexer": "ipython3",
   "version": "3.8.3"
  }
 },
 "nbformat": 4,
 "nbformat_minor": 4
}
